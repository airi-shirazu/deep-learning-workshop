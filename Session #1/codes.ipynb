{
 "cells": [
  {
   "cell_type": "code",
   "execution_count": 14,
   "id": "dc3f39f7-1304-48e7-b86a-3e655598de0e",
   "metadata": {},
   "outputs": [],
   "source": [
    "import pubchempy as pcp\n",
    "from rdkit import Chem\n",
    "from rdkit.Chem import Draw\n",
    "from rdkit.Chem import rdDepictor\n",
    "from rdkit.Chem import rdDistGeom\n",
    "from rdkit.Chem.Draw import IPythonConsole\n",
    "IPythonConsole.ipython_3d = True"
   ]
  },
  {
   "cell_type": "code",
   "execution_count": 15,
   "id": "ca5a294d-6612-430a-9f7c-675081b3e25e",
   "metadata": {},
   "outputs": [],
   "source": [
    "#drugNameList = ['Acetaminophen', 'Amoxicillin', 'Aspirin', 'Dimethyl fumarate', 'Sertraline', \n",
    "#                 'Pantoprazole', 'Amlodipine', 'Metformin', 'Omeprazole','Gabapentin', 'Losartan', 'Ibuprofen', 'Meloxicam', 'Lorazepam']\n",
    "drugName = 'Amoxicillin'\n",
    "Smile_result = pcp.get_compounds(drugName, 'name')\n",
    "#print(len(Smile_result))\n",
    "c_id = Smile_result[0].cid\n",
    "mol = Smile_result[0].from_cid(c_id)\n",
    "formula = mol.molecular_formula\n",
    "\n",
    "#### https://pubchempy.readthedocs.io/en/latest/api.html ####\n",
    "isomeric_smiles = Smile_result[0].isomeric_smiles\n",
    "canonical_smiles = Smile_result[0].canonical_smiles"
   ]
  },
  {
   "cell_type": "code",
   "execution_count": 16,
   "id": "f0e02df8-e2dd-484a-896e-4c798416c5e7",
   "metadata": {},
   "outputs": [
    {
     "name": "stdout",
     "output_type": "stream",
     "text": [
      "Drug Name: Amoxicillin\n",
      "Chemical Formula: C16H19N3O5S\n",
      "\n",
      "Isomeric SMILES:\n",
      " CC1([C@@H](N2[C@H](S1)[C@@H](C2=O)NC(=O)[C@@H](C3=CC=C(C=C3)O)N)C(=O)O)C\n",
      "\n",
      "Canonical SMILES:\n",
      " CC1(C(N2C(S1)C(C2=O)NC(=O)C(C3=CC=C(C=C3)O)N)C(=O)O)C\n"
     ]
    }
   ],
   "source": [
    "print('Drug Name:',drugName)\n",
    "print('Chemical Formula:', formula)\n",
    "print('\\nIsomeric SMILES:\\n',isomeric_smiles)\n",
    "print('\\nCanonical SMILES:\\n',canonical_smiles) "
   ]
  },
  {
   "cell_type": "code",
   "execution_count": 17,
   "id": "930f5a37-b51c-41e1-9362-4b74b6996829",
   "metadata": {},
   "outputs": [],
   "source": [
    "# molecule = Chem.MolFromSmiles(isomeric_smiles)\n",
    "molecule = Chem.MolFromSmiles(canonical_smiles)"
   ]
  },
  {
   "cell_type": "code",
   "execution_count": 18,
   "id": "312fbb2e-0bf7-46fa-a082-e1aa079f5d40",
   "metadata": {},
   "outputs": [
    {
     "data": {
      "image/png": "[encoded data removed]",
      "text/plain": [
       "<rdkit.Chem.rdchem.Mol at 0x1eeeaab1a50>"
      ]
     },
     "execution_count": 18,
     "metadata": {},
     "output_type": "execute_result"
    }
   ],
   "source": [
    "molecule"
   ]
  },
  {
   "cell_type": "code",
   "execution_count": 19,
   "id": "e1bb9a7d-8e96-41a4-b17c-b1189e3da819",
   "metadata": {},
   "outputs": [
    {
     "data": {
      "text/plain": [
       "0"
      ]
     },
     "execution_count": 19,
     "metadata": {},
     "output_type": "execute_result"
    }
   ],
   "source": [
    "# add Hydrogens so that we get a reasonable conformer\n",
    "molecule = Chem.AddHs(molecule)\n",
    "rdDistGeom.EmbedMolecule(molecule)"
   ]
  },
  {
   "cell_type": "code",
   "execution_count": 20,
   "id": "6149f917-b5eb-4906-8256-52b7e1f7d749",
   "metadata": {},
   "outputs": [
    {
     "name": "stdout",
     "output_type": "stream",
     "text": [
      "10 True\n"
     ]
    }
   ],
   "source": [
    "# generate 10 conformers\n",
    "rdDistGeom.EmbedMultipleConfs(molecule,10, randomSeed=0xf00d) \n",
    "print(molecule.GetNumConformers(),molecule.GetConformer().Is3D())"
   ]
  },
  {
   "cell_type": "code",
   "execution_count": 21,
   "id": "d40091b3-093a-4b34-8006-1392b9d3a8c5",
   "metadata": {},
   "outputs": [
    {
     "name": "stdout",
     "output_type": "stream",
     "text": [
      "\n",
      "Drug Name:                  Amoxicillin\n",
      "Drug Formula:               C16H19N3O5S\n",
      "Isomeric SMILES:            CC1([C@@H](N2[C@H](S1)[C@@H](C2=O)NC(=O)[C@@H](C3=CC=C(C=C3)O)N)C(=O)O)C\n",
      "Canonical SMILES:           CC1(C(N2C(S1)C(C2=O)NC(=O)C(C3=CC=C(C=C3)O)N)C(=O)O)C \n",
      "\n"
     ]
    },
    {
     "data": {
      "application/3dmoljs_load.v0": "<div id=\"3dmolviewer_17187814721403868\"  style=\"position: relative; width: 400px; height: 400px;\">\n        <p id=\"3dmolwarning_17187814721403868\" style=\"background-color:#ffcccc;color:black\">3Dmol.js failed to load for some reason.  Please check your browser console for error messages.<br></p>\n        </div>\n<script>\n\nvar loadScriptAsync = function(uri){\n  return new Promise((resolve, reject) => {\n    //this is to ignore the existence of requirejs amd\n    var savedexports, savedmodule;\n    if (typeof exports !== 'undefined') savedexports = exports;\n    else exports = {}\n    if (typeof module !== 'undefined') savedmodule = module;\n    else module = {}\n\n    var tag = document.createElement('script');\n    tag.src = uri;\n    tag.async = true;\n    tag.onload = () => {\n        exports = savedexports;\n        module = savedmodule;\n        resolve();\n    };\n  var firstScriptTag = document.getElementsByTagName('script')[0];\n  firstScriptTag.parentNode.insertBefore(tag, firstScriptTag);\n});\n};\n\nif(typeof $3Dmolpromise === 'undefined') {\n$3Dmolpromise = null;\n  $3Dmolpromise = loadScriptAsync('https://cdnjs.cloudflare.com/ajax/libs/3Dmol/2.1.0/3Dmol-min.js');\n}\n\nvar viewer_17187814721403868 = null;\nvar warn = document.getElementById(\"3dmolwarning_17187814721403868\");\nif(warn) {\n    warn.parentNode.removeChild(warn);\n}\n$3Dmolpromise.then(function() {\nviewer_17187814721403868 = $3Dmol.createViewer(document.getElementById(\"3dmolviewer_17187814721403868\"),{backgroundColor:\"white\"});\nviewer_17187814721403868.zoomTo();\n\tviewer_17187814721403868.removeAllModels();\n\tviewer_17187814721403868.addModel(\"\\n     RDKit          3D\\n\\n 44 46  0  0  0  0  0  0  0  0999 V2000\\n    4.4196   -0.0330    1.8990 C   0  0  0  0  0  0  0  0  0  0  0  0\\n    3.8517    0.8853    0.8428 C   0  0  0  0  0  0  0  0  0  0  0  0\\n    3.7475    0.0824   -0.4583 C   0  0  0  0  0  0  0  0  0  0  0  0\\n    2.5878   -0.7562   -0.3416 N   0  0  0  0  0  0  0  0  0  0  0  0\\n    1.4044    0.0814   -0.1210 C   0  0  0  0  0  0  0  0  0  0  0  0\\n    2.0765    1.2026    1.1369 S   0  0  0  0  0  0  0  0  0  0  0  0\\n    0.6976   -1.0695    0.5556 C   0  0  0  0  0  0  0  0  0  0  0  0\\n    1.7031   -1.8577   -0.2733 C   0  0  0  0  0  0  0  0  0  0  0  0\\n    1.6133   -3.0455   -0.6626 O   0  0  0  0  0  0  0  0  0  0  0  0\\n   -0.6657   -1.2915    0.1828 N   0  0  0  0  0  0  0  0  0  0  0  0\\n   -1.6834   -1.6690    1.0836 C   0  0  0  0  0  0  0  0  0  0  0  0\\n   -1.3385   -1.8142    2.2997 O   0  0  0  0  0  0  0  0  0  0  0  0\\n   -3.0987   -1.8954    0.6740 C   0  0  0  0  0  0  0  0  0  0  0  0\\n   -3.6616   -0.7494   -0.0512 C   0  0  0  0  0  0  0  0  0  0  0  0\\n   -4.1048    0.3801    0.6371 C   0  0  0  0  0  0  0  0  0  0  0  0\\n   -4.6342    1.4598   -0.0374 C   0  0  0  0  0  0  0  0  0  0  0  0\\n   -4.7367    1.4439   -1.4165 C   0  0  0  0  0  0  0  0  0  0  0  0\\n   -4.2947    0.3205   -2.0855 C   0  0  0  0  0  0  0  0  0  0  0  0\\n   -3.7629   -0.7671   -1.4248 C   0  0  0  0  0  0  0  0  0  0  0  0\\n   -5.2754    2.5481   -2.0714 O   0  0  0  0  0  0  0  0  0  0  0  0\\n   -3.8703   -2.2679    1.8377 N   0  0  0  0  0  0  0  0  0  0  0  0\\n    3.6372    0.9157   -1.6524 C   0  0  0  0  0  0  0  0  0  0  0  0\\n    4.5536    1.7401   -1.9194 O   0  0  0  0  0  0  0  0  0  0  0  0\\n    2.5851    0.8748   -2.5384 O   0  0  0  0  0  0  0  0  0  0  0  0\\n    4.6432    2.1318    0.6734 C   0  0  0  0  0  0  0  0  0  0  0  0\\n    4.0348    0.1977    2.9122 H   0  0  0  0  0  0  0  0  0  0  0  0\\n    5.5252    0.0841    1.9379 H   0  0  0  0  0  0  0  0  0  0  0  0\\n    4.1912   -1.0994    1.7010 H   0  0  0  0  0  0  0  0  0  0  0  0\\n    4.6746   -0.5373   -0.4928 H   0  0  0  0  0  0  0  0  0  0  0  0\\n    0.9252    0.5112   -0.9836 H   0  0  0  0  0  0  0  0  0  0  0  0\\n    0.8857   -1.2198    1.6146 H   0  0  0  0  0  0  0  0  0  0  0  0\\n   -0.9215   -1.1635   -0.8317 H   0  0  0  0  0  0  0  0  0  0  0  0\\n   -3.0966   -2.7722   -0.0031 H   0  0  0  0  0  0  0  0  0  0  0  0\\n   -4.0028    0.3442    1.7211 H   0  0  0  0  0  0  0  0  0  0  0  0\\n   -4.9595    2.3040    0.5519 H   0  0  0  0  0  0  0  0  0  0  0  0\\n   -4.3787    0.3150   -3.1731 H   0  0  0  0  0  0  0  0  0  0  0  0\\n   -3.4274   -1.6340   -2.0116 H   0  0  0  0  0  0  0  0  0  0  0  0\\n   -4.6495    3.3007   -2.3691 H   0  0  0  0  0  0  0  0  0  0  0  0\\n   -4.8830   -2.2515    1.6929 H   0  0  0  0  0  0  0  0  0  0  0  0\\n   -3.6097   -1.6175    2.6138 H   0  0  0  0  0  0  0  0  0  0  0  0\\n    2.6949    1.0916   -3.5317 H   0  0  0  0  0  0  0  0  0  0  0  0\\n    4.0745    2.8605    0.0652 H   0  0  0  0  0  0  0  0  0  0  0  0\\n    5.5930    1.8876    0.1561 H   0  0  0  0  0  0  0  0  0  0  0  0\\n    4.9358    2.5483    1.6615 H   0  0  0  0  0  0  0  0  0  0  0  0\\n  1  2  1  0\\n  2  3  1  0\\n  3  4  1  0\\n  4  5  1  0\\n  5  6  1  0\\n  5  7  1  0\\n  7  8  1  0\\n  8  9  2  0\\n  7 10  1  0\\n 10 11  1  0\\n 11 12  2  0\\n 11 13  1  0\\n 13 14  1  0\\n 14 15  2  0\\n 15 16  1  0\\n 16 17  2  0\\n 17 18  1  0\\n 18 19  2  0\\n 17 20  1  0\\n 13 21  1  0\\n  3 22  1  0\\n 22 23  2  0\\n 22 24  1  0\\n  2 25  1  0\\n  6  2  1  0\\n  8  4  1  0\\n 19 14  1  0\\n  1 26  1  0\\n  1 27  1  0\\n  1 28  1  0\\n  3 29  1  0\\n  5 30  1  0\\n  7 31  1  0\\n 10 32  1  0\\n 13 33  1  0\\n 15 34  1  0\\n 16 35  1  0\\n 18 36  1  0\\n 19 37  1  0\\n 20 38  1  0\\n 21 39  1  0\\n 21 40  1  0\\n 24 41  1  0\\n 25 42  1  0\\n 25 43  1  0\\n 25 44  1  0\\nM  END\\n\",\"sdf\");\n\tviewer_17187814721403868.setStyle({\"stick\": {}});\n\tviewer_17187814721403868.setBackgroundColor(\"0xeeeeee\");\n\tviewer_17187814721403868.zoomTo();\nviewer_17187814721403868.render();\n});\n</script>",
      "text/html": [
       "<div id=\"3dmolviewer_17187814721403868\"  style=\"position: relative; width: 400px; height: 400px;\">\n",
       "        <p id=\"3dmolwarning_17187814721403868\" style=\"background-color:#ffcccc;color:black\">3Dmol.js failed to load for some reason.  Please check your browser console for error messages.<br></p>\n",
       "        </div>\n",
       "<script>\n",
       "\n",
       "var loadScriptAsync = function(uri){\n",
       "  return new Promise((resolve, reject) => {\n",
       "    //this is to ignore the existence of requirejs amd\n",
       "    var savedexports, savedmodule;\n",
       "    if (typeof exports !== 'undefined') savedexports = exports;\n",
       "    else exports = {}\n",
       "    if (typeof module !== 'undefined') savedmodule = module;\n",
       "    else module = {}\n",
       "\n",
       "    var tag = document.createElement('script');\n",
       "    tag.src = uri;\n",
       "    tag.async = true;\n",
       "    tag.onload = () => {\n",
       "        exports = savedexports;\n",
       "        module = savedmodule;\n",
       "        resolve();\n",
       "    };\n",
       "  var firstScriptTag = document.getElementsByTagName('script')[0];\n",
       "  firstScriptTag.parentNode.insertBefore(tag, firstScriptTag);\n",
       "});\n",
       "};\n",
       "\n",
       "if(typeof $3Dmolpromise === 'undefined') {\n",
       "$3Dmolpromise = null;\n",
       "  $3Dmolpromise = loadScriptAsync('https://cdnjs.cloudflare.com/ajax/libs/3Dmol/2.1.0/3Dmol-min.js');\n",
       "}\n",
       "\n",
       "var viewer_17187814721403868 = null;\n",
       "var warn = document.getElementById(\"3dmolwarning_17187814721403868\");\n",
       "if(warn) {\n",
       "    warn.parentNode.removeChild(warn);\n",
       "}\n",
       "$3Dmolpromise.then(function() {\n",
       "viewer_17187814721403868 = $3Dmol.createViewer(document.getElementById(\"3dmolviewer_17187814721403868\"),{backgroundColor:\"white\"});\n",
       "viewer_17187814721403868.zoomTo();\n",
       "\tviewer_17187814721403868.removeAllModels();\n",
       "\tviewer_17187814721403868.addModel(\"\\n     RDKit          3D\\n\\n 44 46  0  0  0  0  0  0  0  0999 V2000\\n    4.4196   -0.0330    1.8990 C   0  0  0  0  0  0  0  0  0  0  0  0\\n    3.8517    0.8853    0.8428 C   0  0  0  0  0  0  0  0  0  0  0  0\\n    3.7475    0.0824   -0.4583 C   0  0  0  0  0  0  0  0  0  0  0  0\\n    2.5878   -0.7562   -0.3416 N   0  0  0  0  0  0  0  0  0  0  0  0\\n    1.4044    0.0814   -0.1210 C   0  0  0  0  0  0  0  0  0  0  0  0\\n    2.0765    1.2026    1.1369 S   0  0  0  0  0  0  0  0  0  0  0  0\\n    0.6976   -1.0695    0.5556 C   0  0  0  0  0  0  0  0  0  0  0  0\\n    1.7031   -1.8577   -0.2733 C   0  0  0  0  0  0  0  0  0  0  0  0\\n    1.6133   -3.0455   -0.6626 O   0  0  0  0  0  0  0  0  0  0  0  0\\n   -0.6657   -1.2915    0.1828 N   0  0  0  0  0  0  0  0  0  0  0  0\\n   -1.6834   -1.6690    1.0836 C   0  0  0  0  0  0  0  0  0  0  0  0\\n   -1.3385   -1.8142    2.2997 O   0  0  0  0  0  0  0  0  0  0  0  0\\n   -3.0987   -1.8954    0.6740 C   0  0  0  0  0  0  0  0  0  0  0  0\\n   -3.6616   -0.7494   -0.0512 C   0  0  0  0  0  0  0  0  0  0  0  0\\n   -4.1048    0.3801    0.6371 C   0  0  0  0  0  0  0  0  0  0  0  0\\n   -4.6342    1.4598   -0.0374 C   0  0  0  0  0  0  0  0  0  0  0  0\\n   -4.7367    1.4439   -1.4165 C   0  0  0  0  0  0  0  0  0  0  0  0\\n   -4.2947    0.3205   -2.0855 C   0  0  0  0  0  0  0  0  0  0  0  0\\n   -3.7629   -0.7671   -1.4248 C   0  0  0  0  0  0  0  0  0  0  0  0\\n   -5.2754    2.5481   -2.0714 O   0  0  0  0  0  0  0  0  0  0  0  0\\n   -3.8703   -2.2679    1.8377 N   0  0  0  0  0  0  0  0  0  0  0  0\\n    3.6372    0.9157   -1.6524 C   0  0  0  0  0  0  0  0  0  0  0  0\\n    4.5536    1.7401   -1.9194 O   0  0  0  0  0  0  0  0  0  0  0  0\\n    2.5851    0.8748   -2.5384 O   0  0  0  0  0  0  0  0  0  0  0  0\\n    4.6432    2.1318    0.6734 C   0  0  0  0  0  0  0  0  0  0  0  0\\n    4.0348    0.1977    2.9122 H   0  0  0  0  0  0  0  0  0  0  0  0\\n    5.5252    0.0841    1.9379 H   0  0  0  0  0  0  0  0  0  0  0  0\\n    4.1912   -1.0994    1.7010 H   0  0  0  0  0  0  0  0  0  0  0  0\\n    4.6746   -0.5373   -0.4928 H   0  0  0  0  0  0  0  0  0  0  0  0\\n    0.9252    0.5112   -0.9836 H   0  0  0  0  0  0  0  0  0  0  0  0\\n    0.8857   -1.2198    1.6146 H   0  0  0  0  0  0  0  0  0  0  0  0\\n   -0.9215   -1.1635   -0.8317 H   0  0  0  0  0  0  0  0  0  0  0  0\\n   -3.0966   -2.7722   -0.0031 H   0  0  0  0  0  0  0  0  0  0  0  0\\n   -4.0028    0.3442    1.7211 H   0  0  0  0  0  0  0  0  0  0  0  0\\n   -4.9595    2.3040    0.5519 H   0  0  0  0  0  0  0  0  0  0  0  0\\n   -4.3787    0.3150   -3.1731 H   0  0  0  0  0  0  0  0  0  0  0  0\\n   -3.4274   -1.6340   -2.0116 H   0  0  0  0  0  0  0  0  0  0  0  0\\n   -4.6495    3.3007   -2.3691 H   0  0  0  0  0  0  0  0  0  0  0  0\\n   -4.8830   -2.2515    1.6929 H   0  0  0  0  0  0  0  0  0  0  0  0\\n   -3.6097   -1.6175    2.6138 H   0  0  0  0  0  0  0  0  0  0  0  0\\n    2.6949    1.0916   -3.5317 H   0  0  0  0  0  0  0  0  0  0  0  0\\n    4.0745    2.8605    0.0652 H   0  0  0  0  0  0  0  0  0  0  0  0\\n    5.5930    1.8876    0.1561 H   0  0  0  0  0  0  0  0  0  0  0  0\\n    4.9358    2.5483    1.6615 H   0  0  0  0  0  0  0  0  0  0  0  0\\n  1  2  1  0\\n  2  3  1  0\\n  3  4  1  0\\n  4  5  1  0\\n  5  6  1  0\\n  5  7  1  0\\n  7  8  1  0\\n  8  9  2  0\\n  7 10  1  0\\n 10 11  1  0\\n 11 12  2  0\\n 11 13  1  0\\n 13 14  1  0\\n 14 15  2  0\\n 15 16  1  0\\n 16 17  2  0\\n 17 18  1  0\\n 18 19  2  0\\n 17 20  1  0\\n 13 21  1  0\\n  3 22  1  0\\n 22 23  2  0\\n 22 24  1  0\\n  2 25  1  0\\n  6  2  1  0\\n  8  4  1  0\\n 19 14  1  0\\n  1 26  1  0\\n  1 27  1  0\\n  1 28  1  0\\n  3 29  1  0\\n  5 30  1  0\\n  7 31  1  0\\n 10 32  1  0\\n 13 33  1  0\\n 15 34  1  0\\n 16 35  1  0\\n 18 36  1  0\\n 19 37  1  0\\n 20 38  1  0\\n 21 39  1  0\\n 21 40  1  0\\n 24 41  1  0\\n 25 42  1  0\\n 25 43  1  0\\n 25 44  1  0\\nM  END\\n\",\"sdf\");\n",
       "\tviewer_17187814721403868.setStyle({\"stick\": {}});\n",
       "\tviewer_17187814721403868.setBackgroundColor(\"0xeeeeee\");\n",
       "\tviewer_17187814721403868.zoomTo();\n",
       "viewer_17187814721403868.render();\n",
       "});\n",
       "</script>"
      ]
     },
     "metadata": {},
     "output_type": "display_data"
    },
    {
     "name": "stdout",
     "output_type": "stream",
     "text": [
      "\n",
      "\n"
     ]
    }
   ],
   "source": [
    "# Show 3D image & Info\n",
    "print(\"\\nDrug Name:                 \", drugName)\n",
    "print(\"Drug Formula:              \", formula) \n",
    "print(\"Isomeric SMILES:           \", isomeric_smiles)\n",
    "print(\"Canonical SMILES:          \", canonical_smiles, \"\\n\")\n",
    "IPythonConsole.drawMol3D(molecule)\n",
    "print(\"\\n\")"
   ]
  },
  {
   "cell_type": "code",
   "execution_count": null,
   "id": "567ba612-2259-46bf-ba19-36df83396b2f",
   "metadata": {},
   "outputs": [],
   "source": []
  }
 ],
 "metadata": {
  "kernelspec": {
   "display_name": "Python 3 (ipykernel)",
   "language": "python",
   "name": "python3"
  },
  "language_info": {
   "codemirror_mode": {
    "name": "ipython",
    "version": 3
   },
   "file_extension": ".py",
   "mimetype": "text/x-python",
   "name": "python",
   "nbconvert_exporter": "python",
   "pygments_lexer": "ipython3",
   "version": "3.9.19"
  }
 },
 "nbformat": 4,
 "nbformat_minor": 5
}
